{
 "cells": [
  {
   "cell_type": "markdown",
   "id": "e4099b1f",
   "metadata": {},
   "source": [
    "Mudanças:\n",
    "*Na relação filmes, adicionamos a coluna title, runtime, popularity, status, revenue, release_date"
   ]
  },
  {
   "cell_type": "code",
   "execution_count": 1,
   "id": "800a7b58",
   "metadata": {},
   "outputs": [],
   "source": [
    "import pandas as pd"
   ]
  },
  {
   "cell_type": "markdown",
   "id": "9d0452d0",
   "metadata": {},
   "source": [
    "# Relação filmes"
   ]
  },
  {
   "cell_type": "code",
   "execution_count": 88,
   "id": "6f6b966b",
   "metadata": {},
   "outputs": [
    {
     "name": "stderr",
     "output_type": "stream",
     "text": [
      "C:\\Users\\raisa\\AppData\\Local\\Temp\\ipykernel_12892\\3982479452.py:1: DtypeWarning: Columns (10) have mixed types. Specify dtype option on import or set low_memory=False.\n",
      "  movies_metadata = pd.read_csv('moviesdt/movies_metadata.csv')\n"
     ]
    }
   ],
   "source": [
    "movies_metadata = pd.read_csv('moviesdt/movies_metadata.csv')\n",
    "credits = pd.read_csv('moviesdt/credits.csv')"
   ]
  },
  {
   "cell_type": "code",
   "execution_count": 20,
   "id": "fd8763cf",
   "metadata": {},
   "outputs": [],
   "source": [
    "filmes = movies_metadata"
   ]
  },
  {
   "cell_type": "markdown",
   "id": "59c2fdf2",
   "metadata": {},
   "source": [
    "### Na relação filmes, mudar os atributos para os listados abaixo"
   ]
  },
  {
   "cell_type": "code",
   "execution_count": 21,
   "id": "1892a18b",
   "metadata": {},
   "outputs": [],
   "source": [
    "colunas_filmes = ['id', 'homepage', 'adult', 'budget', 'original_language', 'original_title', 'title', 'overview','runtime', 'popularity', 'status', 'revenue', 'release_date' ,'id_coletanea'] #colunas que teremos no novo dataset e não precisam ser tratadas"
   ]
  },
  {
   "cell_type": "code",
   "execution_count": 22,
   "id": "2ca8df45",
   "metadata": {},
   "outputs": [
    {
     "data": {
      "text/plain": [
       "['vote_average',\n",
       " 'imdb_id',\n",
       " 'video',\n",
       " 'production_countries',\n",
       " 'genres',\n",
       " 'tagline',\n",
       " 'production_companies',\n",
       " 'spoken_languages',\n",
       " 'belongs_to_collection',\n",
       " 'poster_path',\n",
       " 'vote_count']"
      ]
     },
     "execution_count": 22,
     "metadata": {},
     "output_type": "execute_result"
    }
   ],
   "source": [
    "list(set(filmes.columns) - set(colunas_filmes))"
   ]
  },
  {
   "cell_type": "code",
   "execution_count": 23,
   "id": "182698a8",
   "metadata": {},
   "outputs": [],
   "source": [
    "for coluna in list(set(filmes.columns) - set(colunas_filmes)):\n",
    "        filmes = filmes.drop(coluna, axis = 1)"
   ]
  },
  {
   "cell_type": "code",
   "execution_count": 41,
   "id": "95860196",
   "metadata": {},
   "outputs": [],
   "source": [
    "filmes['id_coletanea'] = movies_metadata['belongs_to_collection']"
   ]
  },
  {
   "cell_type": "code",
   "execution_count": 42,
   "id": "c8eca4c0",
   "metadata": {},
   "outputs": [],
   "source": [
    "filmes = filmes.reindex(columns=['id', 'title', 'homepage', 'adult', 'budget', 'original_language', 'original_title', 'overview', 'id_coletanea'])"
   ]
  },
  {
   "cell_type": "markdown",
   "id": "1794db24",
   "metadata": {},
   "source": [
    "### Tabela coletânea "
   ]
  },
  {
   "cell_type": "code",
   "execution_count": 86,
   "id": "cf107dcc",
   "metadata": {},
   "outputs": [],
   "source": [
    "idsColet = []\n",
    "nomesColet = []\n",
    "for linha in filmes['id_coletanea']:\n",
    "    if type(linha) == str and linha[0] == '{':\n",
    "        campos = linha.split(':')\n",
    "        id = campos[1].split(',')[0]\n",
    "        if id not in idsColet:\n",
    "            idsColet.append(id)\n",
    "            nomesColet.append(campos[2].split(',')[0])\n",
    "            \n",
    "coletaneas = {'id': idsColet, 'nome': nomesColet}\n",
    "coletaneasDf = pd.DataFrame.from_dict(coletaneas)"
   ]
  },
  {
   "cell_type": "code",
   "execution_count": 87,
   "id": "21e71819",
   "metadata": {
    "scrolled": true
   },
   "outputs": [
    {
     "data": {
      "text/html": [
       "<div>\n",
       "<style scoped>\n",
       "    .dataframe tbody tr th:only-of-type {\n",
       "        vertical-align: middle;\n",
       "    }\n",
       "\n",
       "    .dataframe tbody tr th {\n",
       "        vertical-align: top;\n",
       "    }\n",
       "\n",
       "    .dataframe thead th {\n",
       "        text-align: right;\n",
       "    }\n",
       "</style>\n",
       "<table border=\"1\" class=\"dataframe\">\n",
       "  <thead>\n",
       "    <tr style=\"text-align: right;\">\n",
       "      <th></th>\n",
       "      <th>id</th>\n",
       "      <th>nome</th>\n",
       "    </tr>\n",
       "  </thead>\n",
       "  <tbody>\n",
       "    <tr>\n",
       "      <th>0</th>\n",
       "      <td>10194</td>\n",
       "      <td>'Toy Story Collection'</td>\n",
       "    </tr>\n",
       "    <tr>\n",
       "      <th>1</th>\n",
       "      <td>119050</td>\n",
       "      <td>'Grumpy Old Men Collection'</td>\n",
       "    </tr>\n",
       "    <tr>\n",
       "      <th>2</th>\n",
       "      <td>96871</td>\n",
       "      <td>'Father of the Bride Collection'</td>\n",
       "    </tr>\n",
       "    <tr>\n",
       "      <th>3</th>\n",
       "      <td>645</td>\n",
       "      <td>'James Bond Collection'</td>\n",
       "    </tr>\n",
       "    <tr>\n",
       "      <th>4</th>\n",
       "      <td>117693</td>\n",
       "      <td>'Balto Collection'</td>\n",
       "    </tr>\n",
       "    <tr>\n",
       "      <th>...</th>\n",
       "      <td>...</td>\n",
       "      <td>...</td>\n",
       "    </tr>\n",
       "    <tr>\n",
       "      <th>1690</th>\n",
       "      <td>104774</td>\n",
       "      <td>'Tomtar och Trolltyg Collection'</td>\n",
       "    </tr>\n",
       "    <tr>\n",
       "      <th>1691</th>\n",
       "      <td>400500</td>\n",
       "      <td>'Чебурашка и крокодил Гена'</td>\n",
       "    </tr>\n",
       "    <tr>\n",
       "      <th>1692</th>\n",
       "      <td>148603</td>\n",
       "      <td>'Ducobu Collection'</td>\n",
       "    </tr>\n",
       "    <tr>\n",
       "      <th>1693</th>\n",
       "      <td>152918</td>\n",
       "      <td>'Mister Blot Collection'</td>\n",
       "    </tr>\n",
       "    <tr>\n",
       "      <th>1694</th>\n",
       "      <td>200641</td>\n",
       "      <td>'Red Lotus Collection'</td>\n",
       "    </tr>\n",
       "  </tbody>\n",
       "</table>\n",
       "<p>1695 rows × 2 columns</p>\n",
       "</div>"
      ],
      "text/plain": [
       "           id                               nome\n",
       "0       10194             'Toy Story Collection'\n",
       "1      119050        'Grumpy Old Men Collection'\n",
       "2       96871   'Father of the Bride Collection'\n",
       "3         645            'James Bond Collection'\n",
       "4      117693                 'Balto Collection'\n",
       "...       ...                                ...\n",
       "1690   104774   'Tomtar och Trolltyg Collection'\n",
       "1691   400500        'Чебурашка и крокодил Гена'\n",
       "1692   148603                'Ducobu Collection'\n",
       "1693   152918           'Mister Blot Collection'\n",
       "1694   200641             'Red Lotus Collection'\n",
       "\n",
       "[1695 rows x 2 columns]"
      ]
     },
     "execution_count": 87,
     "metadata": {},
     "output_type": "execute_result"
    }
   ],
   "source": [
    "coletaneasDf"
   ]
  },
  {
   "cell_type": "markdown",
   "id": "e6d454f3",
   "metadata": {},
   "source": [
    "### Tabela ator"
   ]
  },
  {
   "cell_type": "code",
   "execution_count": 95,
   "id": "a12e8d11",
   "metadata": {},
   "outputs": [],
   "source": [
    "for linha in credits:\n",
    "    "
   ]
  },
  {
   "cell_type": "code",
   "execution_count": 98,
   "id": "f36df49c",
   "metadata": {},
   "outputs": [
    {
     "data": {
      "text/plain": [
       "0        [{'cast_id': 14, 'character': 'Woody (voice)',...\n",
       "1        [{'cast_id': 1, 'character': 'Alan Parrish', '...\n",
       "2        [{'cast_id': 2, 'character': 'Max Goldman', 'c...\n",
       "3        [{'cast_id': 1, 'character': \"Savannah 'Vannah...\n",
       "4        [{'cast_id': 1, 'character': 'George Banks', '...\n",
       "                               ...                        \n",
       "45471    [{'cast_id': 0, 'character': '', 'credit_id': ...\n",
       "45472    [{'cast_id': 1002, 'character': 'Sister Angela...\n",
       "45473    [{'cast_id': 6, 'character': 'Emily Shaw', 'cr...\n",
       "45474    [{'cast_id': 2, 'character': '', 'credit_id': ...\n",
       "45475                                                   []\n",
       "Name: cast, Length: 45476, dtype: object"
      ]
     },
     "execution_count": 98,
     "metadata": {},
     "output_type": "execute_result"
    }
   ],
   "source": []
  },
  {
   "cell_type": "code",
   "execution_count": 99,
   "id": "1db4264f",
   "metadata": {},
   "outputs": [
    {
     "data": {
      "text/plain": [
       "0        [{'credit_id': '52fe4284c3a36847f8024f49', 'de...\n",
       "1        [{'credit_id': '52fe44bfc3a36847f80a7cd1', 'de...\n",
       "2        [{'credit_id': '52fe466a9251416c75077a89', 'de...\n",
       "3        [{'credit_id': '52fe44779251416c91011acb', 'de...\n",
       "4        [{'credit_id': '52fe44959251416c75039ed7', 'de...\n",
       "                               ...                        \n",
       "45471    [{'credit_id': '5894a97d925141426c00818c', 'de...\n",
       "45472    [{'credit_id': '52fe4af1c3a36847f81e9b15', 'de...\n",
       "45473    [{'credit_id': '52fe4776c3a368484e0c8387', 'de...\n",
       "45474    [{'credit_id': '533bccebc3a36844cf0011a7', 'de...\n",
       "45475    [{'credit_id': '593e676c92514105b702e68e', 'de...\n",
       "Name: crew, Length: 45476, dtype: object"
      ]
     },
     "execution_count": 99,
     "metadata": {},
     "output_type": "execute_result"
    }
   ],
   "source": []
  },
  {
   "cell_type": "code",
   "execution_count": null,
   "id": "e466fd1f",
   "metadata": {},
   "outputs": [],
   "source": []
  }
 ],
 "metadata": {
  "kernelspec": {
   "display_name": "Python 3 (ipykernel)",
   "language": "python",
   "name": "python3"
  },
  "language_info": {
   "codemirror_mode": {
    "name": "ipython",
    "version": 3
   },
   "file_extension": ".py",
   "mimetype": "text/x-python",
   "name": "python",
   "nbconvert_exporter": "python",
   "pygments_lexer": "ipython3",
   "version": "3.9.13"
  }
 },
 "nbformat": 4,
 "nbformat_minor": 5
}
